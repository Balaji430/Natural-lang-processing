{
 "cells": [
  {
   "cell_type": "code",
   "execution_count": 5,
   "metadata": {},
   "outputs": [
    {
     "name": "stdout",
     "output_type": "stream",
     "text": [
      "['ai', 'ai', 'ai', 'ai', 'aix']\n",
      "Yes, there are 5 matches\n"
     ]
    }
   ],
   "source": [
    "import re\n",
    "\n",
    "txt = \"The rain in Spain falls mainly in the plain! aix\"\n",
    "\n",
    "#Check if the string contains \"ai\" followed by 0 or more \"x\" characters:\n",
    "\n",
    "x = re.findall(\"aix*\", txt)\n",
    "\n",
    "print(x)\n",
    "\n",
    "if x:\n",
    "  print(\"Yes, there are {} matches\".format(len(x)))\n",
    "else:\n",
    "  print(\"No match\")"
   ]
  },
  {
   "cell_type": "code",
   "execution_count": 7,
   "metadata": {},
   "outputs": [
    {
     "name": "stdout",
     "output_type": "stream",
     "text": [
      "['aix']\n",
      "Yes, there is at least one match!\n"
     ]
    }
   ],
   "source": [
    "#Check if the string contains \"ai\" followed by 1 or more \"x\" characters:\n",
    "\n",
    "y = re.findall(\"aix+\", txt)\n",
    "\n",
    "print(y)\n",
    "\n",
    "if y:\n",
    "  print(\"Yes, there is at least one match!\")\n",
    "else:\n",
    "  print(\"No match\")"
   ]
  },
  {
   "cell_type": "code",
   "execution_count": 9,
   "metadata": {},
   "outputs": [
    {
     "name": "stdout",
     "output_type": "stream",
     "text": [
      "['all']\n",
      "Yes, there is 1 match!\n"
     ]
    }
   ],
   "source": [
    "#Check if the string contains \"a\" followed by exactly two \"l\" characters:\n",
    "\n",
    "z = re.findall(\"al{2}\", txt)\n",
    "\n",
    "print(z)\n",
    "\n",
    "if z:\n",
    "  print(\"Yes, there is {} match!\".format(len(z)))\n",
    "else:\n",
    "  print(\"No match\")"
   ]
  },
  {
   "cell_type": "code",
   "execution_count": 15,
   "metadata": {},
   "outputs": [
    {
     "name": "stdout",
     "output_type": "stream",
     "text": [
      "['falls', 'stays']\n",
      "Yes, there are 2 matches!\n"
     ]
    }
   ],
   "source": [
    "txt_2 = \"The rain falls in Spain stays moderate\"\n",
    "w = re.findall(\"falls|stays\", txt_2)\n",
    "\n",
    "print(w)\n",
    "\n",
    "if w:\n",
    "    if len(w)==1:\n",
    "        print(\"Yes, there is one match!\")\n",
    "    else:\n",
    "        print(\"Yes, there are {} matches!\".format(len(w)))\n",
    "else:\n",
    "  print(\"No match\")"
   ]
  },
  {
   "cell_type": "code",
   "execution_count": null,
   "metadata": {},
   "outputs": [],
   "source": []
  }
 ],
 "metadata": {
  "kernelspec": {
   "display_name": "Python 3",
   "language": "python",
   "name": "python3"
  },
  "language_info": {
   "codemirror_mode": {
    "name": "ipython",
    "version": 3
   },
   "file_extension": ".py",
   "mimetype": "text/x-python",
   "name": "python",
   "nbconvert_exporter": "python",
   "pygments_lexer": "ipython3",
   "version": "3.8.3"
  }
 },
 "nbformat": 4,
 "nbformat_minor": 4
}
