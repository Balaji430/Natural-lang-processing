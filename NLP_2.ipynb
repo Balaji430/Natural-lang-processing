{
 "cells": [
  {
   "cell_type": "code",
   "execution_count": 1,
   "metadata": {},
   "outputs": [],
   "source": [
    "import nltk"
   ]
  },
  {
   "cell_type": "code",
   "execution_count": 2,
   "metadata": {},
   "outputs": [],
   "source": [
    "from nltk.stem import PorterStemmer\n",
    "from nltk.corpus import stopwords"
   ]
  },
  {
   "cell_type": "code",
   "execution_count": 3,
   "metadata": {},
   "outputs": [],
   "source": [
    "paragraph = \"\"\"I have three visions for India. In 3000 years of our history, people from all over \n",
    "               the world have come and invaded us, captured our lands, conquered our minds. \n",
    "               From Alexander onwards, the Greeks, the Turks, the Moguls, the Portuguese, the British,\n",
    "               the French, the Dutch, all of them came and looted us, took over what was ours. \n",
    "               Yet we have not done this to any other nation. We have not conquered anyone. \n",
    "               We have not grabbed their land, their culture, \n",
    "               their history and tried to enforce our way of life on them. \n",
    "               Why? Because we respect the freedom of others.That is why my \n",
    "               first vision is that of freedom. I believe that India got its first vision of \n",
    "               this in 1857, when we started the War of Independence. It is this freedom that\n",
    "               we must protect and nurture and build on. If we are not free, no one will respect us.\n",
    "               My second vision for India’s development. For fifty years we have been a developing nation.\n",
    "               It is time we see ourselves as a developed nation. We are among the top 5 nations of the world\n",
    "               in terms of GDP. We have a 10 percent growth rate in most areas. Our poverty levels are falling.\n",
    "               Our achievements are being globally recognised today. Yet we lack the self-confidence to\n",
    "               see ourselves as a developed nation, self-reliant and self-assured. Isn’t this incorrect?\n",
    "               I have a third vision. India must stand up to the world. Because I believe that unless India \n",
    "               stands up to the world, no one will respect us. Only strength respects strength. We must be \n",
    "               strong not only as a military power but also as an economic power. Both must go hand-in-hand. \n",
    "               My good fortune was to have worked with three great minds. Dr. Vikram Sarabhai of the Dept. of \n",
    "               space, Professor Satish Dhawan, who succeeded him and Dr. Brahm Prakash, father of nuclear material.\n",
    "               I was lucky to have worked with all three of them closely and consider this the great opportunity of my life. \n",
    "               I see four milestones in my career\"\"\""
   ]
  },
  {
   "cell_type": "code",
   "execution_count": 4,
   "metadata": {},
   "outputs": [],
   "source": [
    "sentences = nltk.sent_tokenize(paragraph)\n",
    "stemmer = PorterStemmer()"
   ]
  },
  {
   "cell_type": "code",
   "execution_count": 5,
   "metadata": {},
   "outputs": [],
   "source": [
    "# Stemming\n",
    "for i in range(len(sentences)):\n",
    "    words = nltk.word_tokenize(sentences[i])\n",
    "    words = [stemmer.stem(word) for word in words if word not in set(stopwords.words('english'))]\n",
    "    sentences[i] = ' '.join(words)"
   ]
  },
  {
   "cell_type": "code",
   "execution_count": 6,
   "metadata": {},
   "outputs": [
    {
     "data": {
      "text/plain": [
       "['I', 'see', 'four', 'mileston', 'career']"
      ]
     },
     "execution_count": 6,
     "metadata": {},
     "output_type": "execute_result"
    }
   ],
   "source": [
    "words"
   ]
  },
  {
   "cell_type": "code",
   "execution_count": 7,
   "metadata": {},
   "outputs": [
    {
     "data": {
      "text/plain": [
       "['I three vision india .',\n",
       " 'In 3000 year histori , peopl world come invad us , captur land , conquer mind .',\n",
       " 'from alexand onward , greek , turk , mogul , portugues , british , french , dutch , came loot us , took .',\n",
       " 'yet done nation .',\n",
       " 'We conquer anyon .',\n",
       " 'We grab land , cultur , histori tri enforc way life .',\n",
       " 'whi ?',\n",
       " 'becaus respect freedom others.that first vision freedom .',\n",
       " 'I believ india got first vision 1857 , start war independ .',\n",
       " 'It freedom must protect nurtur build .',\n",
       " 'If free , one respect us .',\n",
       " 'My second vision india ’ develop .',\n",
       " 'for fifti year develop nation .',\n",
       " 'It time see develop nation .',\n",
       " 'We among top 5 nation world term gdp .',\n",
       " 'We 10 percent growth rate area .',\n",
       " 'our poverti level fall .',\n",
       " 'our achiev global recognis today .',\n",
       " 'yet lack self-confid see develop nation , self-reli self-assur .',\n",
       " 'isn ’ incorrect ?',\n",
       " 'I third vision .',\n",
       " 'india must stand world .',\n",
       " 'becaus I believ unless india stand world , one respect us .',\n",
       " 'onli strength respect strength .',\n",
       " 'We must strong militari power also econom power .',\n",
       " 'both must go hand-in-hand .',\n",
       " 'My good fortun work three great mind .',\n",
       " 'dr. vikram sarabhai dept .',\n",
       " 'space , professor satish dhawan , succeed dr. brahm prakash , father nuclear materi .',\n",
       " 'I lucki work three close consid great opportun life .',\n",
       " 'I see four mileston career']"
      ]
     },
     "execution_count": 7,
     "metadata": {},
     "output_type": "execute_result"
    }
   ],
   "source": [
    "sentences"
   ]
  },
  {
   "cell_type": "code",
   "execution_count": 8,
   "metadata": {},
   "outputs": [],
   "source": [
    "para_2 = '''Avul Pakir Jainulabdeen Abdul Kalam was born on 15 October 1931 to a Tamil Muslim family in the pilgrimage centre of Rameswaram on Pamban Island, then in the Madras Presidency and now in the State of Tamil Nadu. His father Jainulabdeen was a boat owner and imam of a local mosque;[9] his mother Ashiamma was a housewife.[10][11][12][13] His father owned a ferry that took Hindu pilgrims back and forth between Rameswaram and the now uninhabited Dhanushkodi.[14][15] Kalam was the youngest of four brothers and one sister in his family.[16][17][18] His ancestors had been wealthy traders and landowners, with numerous properties and large tracts of land. Their business had involved trading groceries between the mainland and the island and to and from Sri Lanka, as well as ferrying pilgrims between the mainland and Pamban. As a result, the family acquired the title of \"Mara Kalam Iyakkivar\" (wooden boat steerers), which over the years became shortened to \"Marakier.\" With the opening of the Pamban Bridge to the mainland in 1914, however, the businesses failed and the family fortune and properties were lost over time, apart from the ancestral home.[19] By his early childhood, Kalam's family had become poor; at an early age, he sold newspapers to supplement his family's income.[20][20][21]\n",
    "\n",
    "In his school years, Kalam had average grades but was described as a bright and hardworking student who had a strong desire to learn. He spent hours on his studies, especially mathematics.[21] After completing his education at the Schwartz Higher Secondary School, Ramanathapuram, Kalam went on to attend Saint Joseph's College, Tiruchirappalli, then affiliated with the University of Madras, from where he graduated in physics in 1954.[22] He moved to Madras in 1955 to study aerospace engineering in Madras Institute of Technology.[13] While Kalam was working on a senior class project, the Dean was dissatisfied with his lack of progress and threatened to revoke his scholarship unless the project was finished within the next three days. Kalam met the deadline, impressing the Dean, who later said to him, \"I was putting you under stress and asking you to meet a difficult deadline\".[23] He narrowly missed achieving his dream of becoming a fighter pilot, as he placed ninth in qualifiers, and only eight positions were available in the IAF.[24]'''"
   ]
  },
  {
   "cell_type": "code",
   "execution_count": 9,
   "metadata": {},
   "outputs": [
    {
     "data": {
      "text/plain": [
       "'Avul Pakir Jainulabdeen Abdul Kalam was born on 15 October 1931 to a Tamil Muslim family in the pilgrimage centre of Rameswaram on Pamban Island, then in the Madras Presidency and now in the State of Tamil Nadu. His father Jainulabdeen was a boat owner and imam of a local mosque;[9] his mother Ashiamma was a housewife.[10][11][12][13] His father owned a ferry that took Hindu pilgrims back and forth between Rameswaram and the now uninhabited Dhanushkodi.[14][15] Kalam was the youngest of four brothers and one sister in his family.[16][17][18] His ancestors had been wealthy traders and landowners, with numerous properties and large tracts of land. Their business had involved trading groceries between the mainland and the island and to and from Sri Lanka, as well as ferrying pilgrims between the mainland and Pamban. As a result, the family acquired the title of \"Mara Kalam Iyakkivar\" (wooden boat steerers), which over the years became shortened to \"Marakier.\" With the opening of the Pamban Bridge to the mainland in 1914, however, the businesses failed and the family fortune and properties were lost over time, apart from the ancestral home.[19] By his early childhood, Kalam\\'s family had become poor; at an early age, he sold newspapers to supplement his family\\'s income.[20][20][21]\\n\\nIn his school years, Kalam had average grades but was described as a bright and hardworking student who had a strong desire to learn. He spent hours on his studies, especially mathematics.[21] After completing his education at the Schwartz Higher Secondary School, Ramanathapuram, Kalam went on to attend Saint Joseph\\'s College, Tiruchirappalli, then affiliated with the University of Madras, from where he graduated in physics in 1954.[22] He moved to Madras in 1955 to study aerospace engineering in Madras Institute of Technology.[13] While Kalam was working on a senior class project, the Dean was dissatisfied with his lack of progress and threatened to revoke his scholarship unless the project was finished within the next three days. Kalam met the deadline, impressing the Dean, who later said to him, \"I was putting you under stress and asking you to meet a difficult deadline\".[23] He narrowly missed achieving his dream of becoming a fighter pilot, as he placed ninth in qualifiers, and only eight positions were available in the IAF.[24]'"
      ]
     },
     "execution_count": 9,
     "metadata": {},
     "output_type": "execute_result"
    }
   ],
   "source": [
    "para_2"
   ]
  },
  {
   "cell_type": "code",
   "execution_count": 10,
   "metadata": {},
   "outputs": [],
   "source": [
    "sent_2 = nltk.sent_tokenize(para_2)"
   ]
  },
  {
   "cell_type": "code",
   "execution_count": 11,
   "metadata": {},
   "outputs": [
    {
     "data": {
      "text/plain": [
       "['Avul Pakir Jainulabdeen Abdul Kalam was born on 15 October 1931 to a Tamil Muslim family in the pilgrimage centre of Rameswaram on Pamban Island, then in the Madras Presidency and now in the State of Tamil Nadu.',\n",
       " 'His father Jainulabdeen was a boat owner and imam of a local mosque;[9] his mother Ashiamma was a housewife.',\n",
       " '[10][11][12][13] His father owned a ferry that took Hindu pilgrims back and forth between Rameswaram and the now uninhabited Dhanushkodi.',\n",
       " '[14][15] Kalam was the youngest of four brothers and one sister in his family.',\n",
       " '[16][17][18] His ancestors had been wealthy traders and landowners, with numerous properties and large tracts of land.',\n",
       " 'Their business had involved trading groceries between the mainland and the island and to and from Sri Lanka, as well as ferrying pilgrims between the mainland and Pamban.',\n",
       " 'As a result, the family acquired the title of \"Mara Kalam Iyakkivar\" (wooden boat steerers), which over the years became shortened to \"Marakier.\"',\n",
       " 'With the opening of the Pamban Bridge to the mainland in 1914, however, the businesses failed and the family fortune and properties were lost over time, apart from the ancestral home.',\n",
       " \"[19] By his early childhood, Kalam's family had become poor; at an early age, he sold newspapers to supplement his family's income.\",\n",
       " '[20][20][21]\\n\\nIn his school years, Kalam had average grades but was described as a bright and hardworking student who had a strong desire to learn.',\n",
       " 'He spent hours on his studies, especially mathematics.',\n",
       " \"[21] After completing his education at the Schwartz Higher Secondary School, Ramanathapuram, Kalam went on to attend Saint Joseph's College, Tiruchirappalli, then affiliated with the University of Madras, from where he graduated in physics in 1954.\",\n",
       " '[22] He moved to Madras in 1955 to study aerospace engineering in Madras Institute of Technology.',\n",
       " '[13] While Kalam was working on a senior class project, the Dean was dissatisfied with his lack of progress and threatened to revoke his scholarship unless the project was finished within the next three days.',\n",
       " 'Kalam met the deadline, impressing the Dean, who later said to him, \"I was putting you under stress and asking you to meet a difficult deadline\".',\n",
       " '[23] He narrowly missed achieving his dream of becoming a fighter pilot, as he placed ninth in qualifiers, and only eight positions were available in the IAF.',\n",
       " '[24]']"
      ]
     },
     "execution_count": 11,
     "metadata": {},
     "output_type": "execute_result"
    }
   ],
   "source": [
    "sent_2"
   ]
  },
  {
   "cell_type": "code",
   "execution_count": 42,
   "metadata": {},
   "outputs": [],
   "source": [
    "# Stemming\n",
    "for i in range(len(sent_2)):\n",
    "    words2 = nltk.word_tokenize(sent_2[i])\n",
    "    words2 = [stemmer.stem(word) for word in words2 if word not in set(stopwords.words('english'))]\n",
    "    sent_2[i] = ' '.join(words2)"
   ]
  },
  {
   "cell_type": "code",
   "execution_count": 44,
   "metadata": {},
   "outputs": [
    {
     "data": {
      "text/plain": [
       "['avul pakir jainulabdeen abdul kalam born 15 octob 1931 tamil muslim famili pilgrimag centr rameswaram pamban island , madra presid state tamil nadu .',\n",
       " 'hi father jainulabdeen boat owner imam local mosqu ; [ 9 ] mother ashiamma housewif .',\n",
       " '[ 10 ] [ 11 ] [ 12 ] [ 13 ] hi father own ferri took hindu pilgrim back forth rameswaram uninhabit dhanushkodi .',\n",
       " '[ 14 ] [ 15 ] kalam youngest four brother one sister famili .',\n",
       " '[ 16 ] [ 17 ] [ 18 ] hi ancestor wealthi trader landown , numer properti larg tract land .',\n",
       " 'their busi involv trade groceri mainland island sri lanka , well ferri pilgrim mainland pamban .',\n",
       " \"As result , famili acquir titl `` mara kalam iyakkivar '' ( wooden boat steerer ) , year becam shorten `` maraki . ''\",\n",
       " 'with open pamban bridg mainland 1914 , howev , busi fail famili fortun properti lost time , apart ancestr home .',\n",
       " \"[ 19 ] By earli childhood , kalam 's famili becom poor ; earli age , sold newspap supplement famili 's incom .\",\n",
       " '[ 20 ] [ 20 ] [ 21 ] In school year , kalam averag grade describ bright hardwork student strong desir learn .',\n",
       " 'He spent hour studi , especi mathemat .',\n",
       " \"[ 21 ] after complet educ schwartz higher secondari school , ramanathapuram , kalam went attend saint joseph 's colleg , tiruchirapp , affili univers madra , graduat physic 1954 .\",\n",
       " '[ 22 ] He move madra 1955 studi aerospac engin madra institut technolog .',\n",
       " '[ 13 ] while kalam work senior class project , dean dissatisfi lack progress threaten revok scholarship unless project finish within next three day .',\n",
       " \"kalam met deadlin , impress dean , later said , `` I put stress ask meet difficult deadlin '' .\",\n",
       " '[ 23 ] He narrowli miss achiev dream becom fighter pilot , place ninth qualifi , eight posit avail iaf .',\n",
       " '[ 24 ]']"
      ]
     },
     "execution_count": 44,
     "metadata": {},
     "output_type": "execute_result"
    }
   ],
   "source": [
    "sent_2"
   ]
  },
  {
   "cell_type": "code",
   "execution_count": 19,
   "metadata": {},
   "outputs": [
    {
     "data": {
      "text/plain": [
       "['yet', 'done', 'nation', '.']"
      ]
     },
     "execution_count": 19,
     "metadata": {},
     "output_type": "execute_result"
    }
   ],
   "source": [
    " nltk.word_tokenize(sentences[3])"
   ]
  },
  {
   "cell_type": "code",
   "execution_count": 20,
   "metadata": {},
   "outputs": [
    {
     "data": {
      "text/plain": [
       "'yet done nation .'"
      ]
     },
     "execution_count": 20,
     "metadata": {},
     "output_type": "execute_result"
    }
   ],
   "source": [
    "sentences[3]"
   ]
  },
  {
   "cell_type": "code",
   "execution_count": 21,
   "metadata": {},
   "outputs": [
    {
     "data": {
      "text/plain": [
       "['[',\n",
       " '14',\n",
       " ']',\n",
       " '[',\n",
       " '15',\n",
       " ']',\n",
       " 'Kalam',\n",
       " 'was',\n",
       " 'the',\n",
       " 'youngest',\n",
       " 'of',\n",
       " 'four',\n",
       " 'brothers',\n",
       " 'and',\n",
       " 'one',\n",
       " 'sister',\n",
       " 'in',\n",
       " 'his',\n",
       " 'family',\n",
       " '.']"
      ]
     },
     "execution_count": 21,
     "metadata": {},
     "output_type": "execute_result"
    }
   ],
   "source": [
    "nltk.word_tokenize(sent_2[3])"
   ]
  },
  {
   "cell_type": "code",
   "execution_count": 22,
   "metadata": {},
   "outputs": [
    {
     "data": {
      "text/plain": [
       "'[14][15] Kalam was the youngest of four brothers and one sister in his family.'"
      ]
     },
     "execution_count": 22,
     "metadata": {},
     "output_type": "execute_result"
    }
   ],
   "source": [
    "sent_2[3]"
   ]
  },
  {
   "cell_type": "code",
   "execution_count": 23,
   "metadata": {},
   "outputs": [],
   "source": [
    "import re"
   ]
  },
  {
   "cell_type": "code",
   "execution_count": 30,
   "metadata": {},
   "outputs": [],
   "source": [
    "m = nltk.word_tokenize(re.sub('[^a-zA-Z]', ' ', sent_2[3]))"
   ]
  },
  {
   "cell_type": "code",
   "execution_count": 37,
   "metadata": {},
   "outputs": [
    {
     "data": {
      "text/plain": [
       "'n'"
      ]
     },
     "execution_count": 37,
     "metadata": {},
     "output_type": "execute_result"
    }
   ],
   "source": [
    "stemmer.stem(sentences[4][5])"
   ]
  },
  {
   "cell_type": "code",
   "execution_count": 41,
   "metadata": {},
   "outputs": [
    {
     "data": {
      "text/plain": [
       "'youngest'"
      ]
     },
     "execution_count": 41,
     "metadata": {},
     "output_type": "execute_result"
    }
   ],
   "source": [
    "stemmer.stem(m[3])"
   ]
  },
  {
   "cell_type": "code",
   "execution_count": 39,
   "metadata": {},
   "outputs": [
    {
     "data": {
      "text/plain": [
       "['His',\n",
       " 'father',\n",
       " 'Jainulabdeen',\n",
       " 'was',\n",
       " 'a',\n",
       " 'boat',\n",
       " 'owner',\n",
       " 'and',\n",
       " 'imam',\n",
       " 'of',\n",
       " 'a',\n",
       " 'local',\n",
       " 'mosque',\n",
       " 'his',\n",
       " 'mother',\n",
       " 'Ashiamma',\n",
       " 'was',\n",
       " 'a',\n",
       " 'housewife']"
      ]
     },
     "execution_count": 39,
     "metadata": {},
     "output_type": "execute_result"
    }
   ],
   "source": [
    "nltk.word_tokenize(re.sub('[^a-zA-Z]', ' ',sent_2[1]))"
   ]
  },
  {
   "cell_type": "code",
   "execution_count": null,
   "metadata": {},
   "outputs": [],
   "source": []
  }
 ],
 "metadata": {
  "kernelspec": {
   "display_name": "Python 3",
   "language": "python",
   "name": "python3"
  },
  "language_info": {
   "codemirror_mode": {
    "name": "ipython",
    "version": 3
   },
   "file_extension": ".py",
   "mimetype": "text/x-python",
   "name": "python",
   "nbconvert_exporter": "python",
   "pygments_lexer": "ipython3",
   "version": "3.8.3"
  }
 },
 "nbformat": 4,
 "nbformat_minor": 4
}
