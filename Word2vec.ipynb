{
 "cells": [
  {
   "cell_type": "code",
   "execution_count": 3,
   "metadata": {},
   "outputs": [],
   "source": [
    "import nltk"
   ]
  },
  {
   "cell_type": "code",
   "execution_count": 6,
   "metadata": {},
   "outputs": [
    {
     "name": "stdout",
     "output_type": "stream",
     "text": [
      "Requirement already satisfied: gensim in c:\\users\\balaj\\anaconda3\\lib\\site-packages (3.8.3)\n",
      "Requirement already satisfied: six>=1.5.0 in c:\\users\\balaj\\anaconda3\\lib\\site-packages (from gensim) (1.15.0)\n",
      "Requirement already satisfied: smart-open>=1.8.1 in c:\\users\\balaj\\anaconda3\\lib\\site-packages (from gensim) (2.2.1)\n",
      "Requirement already satisfied: numpy>=1.11.3 in c:\\users\\balaj\\anaconda3\\lib\\site-packages (from gensim) (1.18.5)\n",
      "Requirement already satisfied: scipy>=0.18.1 in c:\\users\\balaj\\anaconda3\\lib\\site-packages (from gensim) (1.5.0)\n",
      "Requirement already satisfied: Cython==0.29.14 in c:\\users\\balaj\\anaconda3\\lib\\site-packages (from gensim) (0.29.14)\n",
      "Requirement already satisfied: boto3 in c:\\users\\balaj\\anaconda3\\lib\\site-packages (from smart-open>=1.8.1->gensim) (1.15.13)\n",
      "Requirement already satisfied: requests in c:\\users\\balaj\\anaconda3\\lib\\site-packages (from smart-open>=1.8.1->gensim) (2.24.0)\n",
      "Requirement already satisfied: jmespath<1.0.0,>=0.7.1 in c:\\users\\balaj\\anaconda3\\lib\\site-packages (from boto3->smart-open>=1.8.1->gensim) (0.10.0)\n",
      "Requirement already satisfied: s3transfer<0.4.0,>=0.3.0 in c:\\users\\balaj\\anaconda3\\lib\\site-packages (from boto3->smart-open>=1.8.1->gensim) (0.3.3)\n",
      "Requirement already satisfied: botocore<1.19.0,>=1.18.13 in c:\\users\\balaj\\anaconda3\\lib\\site-packages (from boto3->smart-open>=1.8.1->gensim) (1.18.13)\n",
      "Requirement already satisfied: idna<3,>=2.5 in c:\\users\\balaj\\anaconda3\\lib\\site-packages (from requests->smart-open>=1.8.1->gensim) (2.10)\n",
      "Requirement already satisfied: certifi>=2017.4.17 in c:\\users\\balaj\\anaconda3\\lib\\site-packages (from requests->smart-open>=1.8.1->gensim) (2020.6.20)\n",
      "Requirement already satisfied: urllib3!=1.25.0,!=1.25.1,<1.26,>=1.21.1 in c:\\users\\balaj\\anaconda3\\lib\\site-packages (from requests->smart-open>=1.8.1->gensim) (1.25.9)\n",
      "Requirement already satisfied: chardet<4,>=3.0.2 in c:\\users\\balaj\\anaconda3\\lib\\site-packages (from requests->smart-open>=1.8.1->gensim) (3.0.4)\n",
      "Requirement already satisfied: python-dateutil<3.0.0,>=2.1 in c:\\users\\balaj\\anaconda3\\lib\\site-packages (from botocore<1.19.0,>=1.18.13->boto3->smart-open>=1.8.1->gensim) (2.8.1)\n",
      "Note: you may need to restart the kernel to use updated packages.\n"
     ]
    }
   ],
   "source": [
    "pip install gensim"
   ]
  },
  {
   "cell_type": "code",
   "execution_count": 5,
   "metadata": {},
   "outputs": [],
   "source": [
    "from gensim.models import Word2Vec\n",
    "from nltk.corpus import stopwords"
   ]
  },
  {
   "cell_type": "code",
   "execution_count": 7,
   "metadata": {},
   "outputs": [],
   "source": [
    "import re"
   ]
  },
  {
   "cell_type": "code",
   "execution_count": 8,
   "metadata": {},
   "outputs": [],
   "source": [
    "paragraph = \"\"\"I have three visions for India. In 3000 years of our history, people from all over \n",
    "               the world have come and invaded us, captured our lands, conquered our minds. \n",
    "               From Alexander onwards, the Greeks, the Turks, the Moguls, the Portuguese, the British,\n",
    "               the French, the Dutch, all of them came and looted us, took over what was ours. \n",
    "               Yet we have not done this to any other nation. We have not conquered anyone. \n",
    "               We have not grabbed their land, their culture, \n",
    "               their history and tried to enforce our way of life on them. \n",
    "               Why? Because we respect the freedom of others.That is why my \n",
    "               first vision is that of freedom. I believe that India got its first vision of \n",
    "               this in 1857, when we started the War of Independence. It is this freedom that\n",
    "               we must protect and nurture and build on. If we are not free, no one will respect us.\n",
    "               My second vision for India’s development. For fifty years we have been a developing nation.\n",
    "               It is time we see ourselves as a developed nation. We are among the top 5 nations of the world\n",
    "               in terms of GDP. We have a 10 percent growth rate in most areas. Our poverty levels are falling.\n",
    "               Our achievements are being globally recognised today. Yet we lack the self-confidence to\n",
    "               see ourselves as a developed nation, self-reliant and self-assured. Isn’t this incorrect?\n",
    "               I have a third vision. India must stand up to the world. Because I believe that unless India \n",
    "               stands up to the world, no one will respect us. Only strength respects strength. We must be \n",
    "               strong not only as a military power but also as an economic power. Both must go hand-in-hand. \n",
    "               My good fortune was to have worked with three great minds. Dr. Vikram Sarabhai of the Dept. of \n",
    "               space, Professor Satish Dhawan, who succeeded him and Dr. Brahm Prakash, father of nuclear material.\n",
    "               I was lucky to have worked with all three of them closely and consider this the great opportunity of my life. \n",
    "               I see four milestones in my career\"\"\"\n"
   ]
  },
  {
   "cell_type": "code",
   "execution_count": 10,
   "metadata": {},
   "outputs": [],
   "source": [
    "text = re.sub(r'\\[[0-9]*\\]',' ',paragraph)"
   ]
  },
  {
   "cell_type": "code",
   "execution_count": 12,
   "metadata": {},
   "outputs": [],
   "source": [
    "text = re.sub(r'\\s+',' ',text)"
   ]
  },
  {
   "cell_type": "code",
   "execution_count": 14,
   "metadata": {},
   "outputs": [],
   "source": [
    "text = text.lower()"
   ]
  },
  {
   "cell_type": "code",
   "execution_count": 16,
   "metadata": {},
   "outputs": [],
   "source": [
    "text = re.sub(r'\\d',' ',text)"
   ]
  },
  {
   "cell_type": "code",
   "execution_count": 18,
   "metadata": {},
   "outputs": [],
   "source": [
    "text = re.sub(r'\\s+',' ',text)"
   ]
  },
  {
   "cell_type": "code",
   "execution_count": 19,
   "metadata": {},
   "outputs": [],
   "source": [
    "sentences = nltk.sent_tokenize(text)\n",
    "sentences = [nltk.word_tokenize(sentence) for sentence in sentences]"
   ]
  },
  {
   "cell_type": "code",
   "execution_count": 20,
   "metadata": {},
   "outputs": [],
   "source": [
    "for i in range(len(sentences)):\n",
    "    sentences[i] = [word for word in sentences[i] if word not in stopwords.words('english')]"
   ]
  },
  {
   "cell_type": "code",
   "execution_count": 21,
   "metadata": {},
   "outputs": [],
   "source": [
    "# Training the Word2Vec model\n",
    "model = Word2Vec(sentences, min_count=1)"
   ]
  },
  {
   "cell_type": "code",
   "execution_count": 22,
   "metadata": {},
   "outputs": [],
   "source": [
    "words = model.wv.vocab\n",
    "\n",
    "# Finding Word Vectors\n",
    "vector = model.wv['war']"
   ]
  },
  {
   "cell_type": "code",
   "execution_count": 23,
   "metadata": {},
   "outputs": [
    {
     "data": {
      "text/plain": [
       "array([ 2.3252166e-04, -1.9472910e-03, -1.6587907e-03, -3.0041640e-03,\n",
       "        1.1986920e-04,  4.0247426e-03,  6.1125291e-04,  2.1847684e-03,\n",
       "       -6.1366853e-04,  4.7962214e-03, -4.1641863e-03, -3.0929567e-03,\n",
       "       -4.6267910e-03, -3.6726147e-03,  3.5211002e-03, -5.9738941e-04,\n",
       "       -3.6397506e-03,  9.1526046e-04,  8.8558946e-04, -1.8770468e-03,\n",
       "        2.3438386e-03,  4.4492679e-03, -1.0720158e-05,  1.6715033e-03,\n",
       "       -1.8676029e-03, -4.2885826e-03,  3.0985009e-03, -1.3102622e-03,\n",
       "        1.1323824e-03,  1.1529224e-03,  1.4089860e-03,  2.9493889e-03,\n",
       "        2.8904381e-03,  3.7822360e-03,  4.7081122e-03, -1.2155697e-03,\n",
       "        3.8689838e-03,  1.3152042e-03,  3.9886991e-03,  2.7792947e-04,\n",
       "       -3.4350068e-03,  4.5352420e-03,  2.0440738e-03,  2.9796907e-03,\n",
       "        3.5480182e-03,  1.5816165e-03,  3.8665568e-04,  2.6105754e-03,\n",
       "        4.4666426e-03, -2.2189850e-03,  6.2779110e-04, -4.7586197e-03,\n",
       "        3.9671035e-04,  3.3515401e-03,  3.1424968e-03, -1.9895600e-03,\n",
       "        1.9355167e-03, -4.2208380e-04, -3.7298654e-04, -4.7181956e-03,\n",
       "        1.8728384e-03,  6.2316743e-04,  3.1030728e-03, -2.6669172e-03,\n",
       "       -2.1590195e-03,  9.8893372e-04, -3.6360901e-03, -4.5368727e-03,\n",
       "       -6.1164511e-04,  2.4097869e-03,  1.1202805e-03, -3.0819925e-03,\n",
       "        2.7021656e-03,  9.4944780e-04, -3.7875078e-03,  2.0297058e-03,\n",
       "        4.1666389e-03, -1.4699445e-03, -7.1256695e-04, -1.2415397e-03,\n",
       "       -1.1148587e-03,  1.3393967e-04, -1.3662705e-03,  4.7990722e-03,\n",
       "       -5.9880182e-04,  1.9689221e-03, -4.8017288e-03, -3.3603222e-04,\n",
       "       -1.0983851e-03, -3.4641265e-03, -2.0315545e-03, -2.3189113e-03,\n",
       "       -9.4944733e-04,  2.7641002e-04,  1.8918263e-03, -4.8076804e-03,\n",
       "        2.9127833e-03, -1.9673910e-03,  3.9301580e-03, -3.4293163e-04],\n",
       "      dtype=float32)"
      ]
     },
     "execution_count": 23,
     "metadata": {},
     "output_type": "execute_result"
    }
   ],
   "source": [
    "vector"
   ]
  },
  {
   "cell_type": "code",
   "execution_count": 24,
   "metadata": {},
   "outputs": [],
   "source": [
    "# Most similar words\n",
    "similar = model.wv.most_similar('vikram')"
   ]
  },
  {
   "cell_type": "code",
   "execution_count": 25,
   "metadata": {},
   "outputs": [
    {
     "data": {
      "text/plain": [
       "[('invaded', 0.25854477286338806),\n",
       " ('life', 0.2181359827518463),\n",
       " ('consider', 0.21519145369529724),\n",
       " ('great', 0.20269888639450073),\n",
       " ('believe', 0.19943495094776154),\n",
       " ('nurture', 0.18379062414169312),\n",
       " ('greeks', 0.17955705523490906),\n",
       " ('go', 0.17817531526088715),\n",
       " ('fifty', 0.17393696308135986),\n",
       " ('developing', 0.1709449142217636)]"
      ]
     },
     "execution_count": 25,
     "metadata": {},
     "output_type": "execute_result"
    }
   ],
   "source": [
    "similar"
   ]
  },
  {
   "cell_type": "code",
   "execution_count": 26,
   "metadata": {},
   "outputs": [
    {
     "data": {
      "text/plain": [
       "[('second', 0.3205786943435669),\n",
       " ('areas', 0.28328973054885864),\n",
       " ('took', 0.2650500237941742),\n",
       " ('incorrect', 0.21751680970191956),\n",
       " ('good', 0.19630807638168335),\n",
       " ('satish', 0.1848398894071579),\n",
       " ('prakash', 0.18335804343223572),\n",
       " ('french', 0.16120685636997223),\n",
       " ('invaded', 0.15777066349983215),\n",
       " ('worked', 0.154220849275589)]"
      ]
     },
     "execution_count": 26,
     "metadata": {},
     "output_type": "execute_result"
    }
   ],
   "source": [
    "model.wv.most_similar('father')"
   ]
  },
  {
   "cell_type": "code",
   "execution_count": null,
   "metadata": {},
   "outputs": [],
   "source": []
  }
 ],
 "metadata": {
  "kernelspec": {
   "display_name": "Python 3",
   "language": "python",
   "name": "python3"
  },
  "language_info": {
   "codemirror_mode": {
    "name": "ipython",
    "version": 3
   },
   "file_extension": ".py",
   "mimetype": "text/x-python",
   "name": "python",
   "nbconvert_exporter": "python",
   "pygments_lexer": "ipython3",
   "version": "3.8.3"
  }
 },
 "nbformat": 4,
 "nbformat_minor": 4
}
